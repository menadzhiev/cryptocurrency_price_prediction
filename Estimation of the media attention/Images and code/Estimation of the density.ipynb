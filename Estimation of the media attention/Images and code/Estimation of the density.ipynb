{
 "cells": [
  {
   "cell_type": "code",
   "execution_count": 231,
   "id": "cb9ad6f6",
   "metadata": {},
   "outputs": [],
   "source": [
    "import scipy.stats as sts\n",
    "import numpy as np\n",
    "import matplotlib.pyplot as plt\n",
    "import seaborn as sns\n",
    "from tqdm import tqdm\n",
    "\n",
    "from functools import partial\n",
    "from IPython.display import Latex\n",
    "\n",
    "np.set_printoptions(threshold=5, suppress=True, linewidth=10**3)"
   ]
  },
  {
   "cell_type": "markdown",
   "id": "d9eefba6",
   "metadata": {},
   "source": [
    "## Getting estimations of $\\lambda_n, \\sigma_n, \\mu_n$"
   ]
  },
  {
   "cell_type": "code",
   "execution_count": 232,
   "id": "0aea08fe",
   "metadata": {},
   "outputs": [],
   "source": [
    "mu, sig, lam, dt = 0, 1, 10, 0.1\n",
    "n_obs, samples, i = 5 * 10**3, 25, 21"
   ]
  },
  {
   "cell_type": "code",
   "execution_count": 233,
   "id": "6628bab4",
   "metadata": {},
   "outputs": [],
   "source": [
    "u_grid1 = np.linspace(0, 10, n_obs)"
   ]
  },
  {
   "cell_type": "code",
   "execution_count": 234,
   "id": "343738f0",
   "metadata": {},
   "outputs": [
    {
     "name": "stdout",
     "output_type": "stream",
     "text": [
      "(5001,)\n"
     ]
    },
    {
     "data": {
      "text/plain": [
       "array([0. , 0.1, 0.2, ..., 0.9, 1. , 1.1])"
      ]
     },
     "execution_count": 234,
     "metadata": {},
     "output_type": "execute_result"
    }
   ],
   "source": [
    "Deltas = (np.ones(shape=n_obs + 1) * dt) * np.arange(n_obs + 1)\n",
    "\n",
    "print(Deltas.shape)\n",
    "Deltas[:12]"
   ]
  },
  {
   "cell_type": "code",
   "execution_count": 235,
   "id": "f4be50f8",
   "metadata": {},
   "outputs": [],
   "source": [
    "np.random.seed(112)\n",
    "\n",
    "W_increments = sts.norm.rvs(loc=0, scale=np.sqrt(dt), size=(samples, n_obs))\n",
    "W_path = np.cumsum(W_increments, axis=1)\n",
    "W_path = np.insert(W_path, 0, 0, axis=1)"
   ]
  },
  {
   "cell_type": "code",
   "execution_count": 236,
   "id": "be188c04",
   "metadata": {},
   "outputs": [],
   "source": [
    "np.random.seed(112)\n",
    "\n",
    "N_increments = sts.poisson.rvs(mu=lam * dt, size=(samples, n_obs))\n",
    "N_path = np.cumsum(N_increments, axis=1)\n",
    "N_path = np.insert(N_path, 0, 0, axis=1)"
   ]
  },
  {
   "cell_type": "code",
   "execution_count": 237,
   "id": "0d8bf917",
   "metadata": {},
   "outputs": [],
   "source": [
    "np.random.seed(112)\n",
    "\n",
    "chi_seq = sts.norm.rvs(loc=0, scale=1, size=(samples, np.max(N_path[:, -1])))\n",
    "chi_sum = np.cumsum(chi_seq, axis=1)\n",
    "chi_sum = np.insert(chi_sum, 0, 0, axis=1)\n",
    "\n",
    "CPP_path = np.array([np.array([chi_sum[i][n_t] for n_t in N_path[i]]) for i in range(samples)])"
   ]
  },
  {
   "cell_type": "code",
   "execution_count": 238,
   "id": "ac2d9729",
   "metadata": {},
   "outputs": [],
   "source": [
    "M_kDel = np.exp(mu * Deltas + sig * W_path + CPP_path)"
   ]
  },
  {
   "cell_type": "code",
   "execution_count": 239,
   "id": "0e53150f",
   "metadata": {},
   "outputs": [
    {
     "name": "stdout",
     "output_type": "stream",
     "text": [
      "(25, 5000)\n"
     ]
    },
    {
     "data": {
      "text/plain": [
       "array([[ 1.94503032, -1.73207178,  1.25366896, ..., -0.22059207,  1.1290642 , -1.29070923],\n",
       "       [ 0.19561552, -0.10529865, -0.13439268, ...,  0.69793418,  0.07111791,  0.21910432],\n",
       "       [-0.07564179,  0.62771476,  2.10061091, ...,  0.54067304, -2.333226  , -0.28182551],\n",
       "       ...,\n",
       "       [-0.02251996,  0.29518462,  0.16776692, ..., -0.05947299, -0.18608798,  0.21153961],\n",
       "       [-2.15731641, -1.1199574 ,  0.45318768, ..., -0.6079759 ,  0.43479075, -3.00698178],\n",
       "       [ 1.61465418,  0.0587304 , -0.02642237, ..., -1.10200796, -1.19896454, -1.08417244]])"
      ]
     },
     "execution_count": 239,
     "metadata": {},
     "output_type": "execute_result"
    }
   ],
   "source": [
    "D_k = np.log(M_kDel[:, 1:]) - np.log(M_kDel[:, :-1])\n",
    "\n",
    "print(D_k.shape)\n",
    "D_k"
   ]
  },
  {
   "cell_type": "code",
   "execution_count": 240,
   "id": "96f6e0ad",
   "metadata": {},
   "outputs": [],
   "source": [
    "# Functions\n",
    "def re_estimation(n_obs, i, dt, D_k, u_grid):\n",
    "    cos_sq_sum = np.array([arr.sum()**2 for arr in [np.cos(u * D_k[i]) for u in u_grid]])\n",
    "    sin_sq_sum = np.array([arr.sum()**2 for arr in [np.sin(u * D_k[i]) for u in u_grid]])\n",
    "    re_hat = -1 / dt * np.log(n_obs) + 1 / (2 * dt) * np.log(cos_sq_sum + sin_sq_sum)\n",
    "    return re_hat\n",
    "\n",
    "\n",
    "def im_estimation(i, dt, D_k, u_grid):\n",
    "    cos_sum = np.array([arr.sum() for arr in [np.cos(u * D_k[i]) for u in u_grid]])\n",
    "    sin_sum = np.array([arr.sum() for arr in [np.sin(u * D_k[i]) for u in u_grid]])\n",
    "    im_hat = (1 / dt) * np.arctan(sin_sum / cos_sum)\n",
    "    return im_hat\n",
    "\n",
    "\n",
    "def Lam_d(d: int, eps: float, u_til: np.ndarray) -> float:\n",
    "    w = (eps <= u_til) & (u_til <= 1)\n",
    "    return (w * u_til**(2 * d)).sum()\n",
    "\n",
    "\n",
    "def Psi_d(\n",
    "    n_obs: int, i:int, dt: float, D_k: np.ndarray,\n",
    "    d: int, eps: float, U_n: float, u_til: np.ndarray \n",
    ") -> float:\n",
    "    \n",
    "    w = (eps <= u_til) & (u_til <= 1)\n",
    "    re_hat = re_estimation(n_obs, i, dt, D_k, u_til * U_n)\n",
    "    return (w * re_hat * (u_til * U_n)**(2 * d)).sum()\n",
    "\n",
    "\n",
    "def Epsilon(\n",
    "    i:int, dt: float, D_k: np.ndarray,\n",
    "    eps: float, V_n: float, u_til: np.ndarray \n",
    "):\n",
    "    \n",
    "    w = (eps <= u_til) & (u_til <= 1)\n",
    "    im_hat = im_estimation(i, dt, D_k, u_til * V_n)\n",
    "    return (w * im_hat * u_til * V_n).sum()"
   ]
  },
  {
   "cell_type": "code",
   "execution_count": 241,
   "id": "68436315",
   "metadata": {},
   "outputs": [],
   "source": [
    "# Initiate\n",
    "eps, U_n, V_n = 0.5, 6, 6\n",
    "N = n_obs\n",
    "div = np.linspace(eps, 1, N - 1)\n",
    "\n",
    "# Lets compute u_tilda\n",
    "u_til1 = np.arange(len(div) - 1)\n",
    "u_til1 = np.vectorize(lambda i: np.random.uniform(div[i], div[i + 1]))(u_til1)\n",
    "u_til1 = np.insert(u_til1, 0, eps)\n",
    "u_til1 = np.append(u_til1, 1)"
   ]
  },
  {
   "cell_type": "code",
   "execution_count": 242,
   "id": "1fdcd122",
   "metadata": {},
   "outputs": [],
   "source": [
    "Lam_0 = Lam_d(0, eps, u_til1)\n",
    "Lam_1 = Lam_d(1, eps, u_til1)\n",
    "Lam_2 = Lam_d(2, eps, u_til1)\n",
    "\n",
    "Psi_0 = Psi_d(n_obs, i, dt, D_k, 0, eps, U_n, u_til1)\n",
    "Psi_1 = Psi_d(n_obs, i, dt, D_k, 1, eps, U_n, u_til1)\n",
    "\n",
    "Eps = Epsilon(i, dt, D_k, eps, V_n, u_til1)"
   ]
  },
  {
   "cell_type": "code",
   "execution_count": 243,
   "id": "726c8db9",
   "metadata": {},
   "outputs": [
    {
     "data": {
      "text/latex": [
       "$\\sigma_n$ = 1.21"
      ],
      "text/plain": [
       "<IPython.core.display.Latex object>"
      ]
     },
     "metadata": {},
     "output_type": "display_data"
    },
    {
     "data": {
      "text/latex": [
       "$\\lambda_n$ = 8.21"
      ],
      "text/plain": [
       "<IPython.core.display.Latex object>"
      ]
     },
     "metadata": {},
     "output_type": "display_data"
    },
    {
     "data": {
      "text/latex": [
       "$\\mu_n$ = 0.08"
      ],
      "text/plain": [
       "<IPython.core.display.Latex object>"
      ]
     },
     "metadata": {},
     "output_type": "display_data"
    }
   ],
   "source": [
    "sig_n = 2 * (Psi_0 * Lam_1 * U_n**2 - Psi_1 * Lam_0) / ((Lam_2 * Lam_0 - Lam_1**2) * U_n**4)\n",
    "display(Latex(r'$\\sigma_n$ = %.2f' % sig_n))\n",
    "\n",
    "lam_n = (Psi_1 * Lam_1 - Psi_0 * Lam_2 * U_n**2) / ((Lam_2 * Lam_0 - Lam_1**2) * U_n**2)\n",
    "display(Latex(r'$\\lambda_n$ = %.2f' % lam_n))\n",
    "        \n",
    "mu_n = Eps / (Lam_1 * V_n**2)\n",
    "display(Latex(r'$\\mu_n$ = %.2f' % mu_n))"
   ]
  },
  {
   "cell_type": "markdown",
   "id": "95bac2ee",
   "metadata": {},
   "source": [
    "## Getting an estimation of the density $p$"
   ]
  },
  {
   "cell_type": "code",
   "execution_count": 244,
   "id": "3ce1d68c",
   "metadata": {
    "scrolled": true
   },
   "outputs": [
    {
     "name": "stdout",
     "output_type": "stream",
     "text": [
      "(100,)\n"
     ]
    },
    {
     "data": {
      "text/plain": [
       "array([-5.       , -4.8989899, -4.7979798, ...,  4.7979798,  4.8989899,  5.       ])"
      ]
     },
     "execution_count": 244,
     "metadata": {},
     "output_type": "execute_result"
    }
   ],
   "source": [
    "#Initiate\n",
    "m = 10**2\n",
    "x_s = np.linspace(-5, 5, m)\n",
    "\n",
    "print(x_s.shape)\n",
    "x_s"
   ]
  },
  {
   "cell_type": "code",
   "execution_count": 245,
   "id": "6f5cbeda",
   "metadata": {
    "scrolled": true
   },
   "outputs": [
    {
     "data": {
      "text/plain": [
       "array([-1.        , -0.99959984, -0.99919968, ...,  0.99919968,  0.99959984,  1.        ])"
      ]
     },
     "execution_count": 245,
     "metadata": {},
     "output_type": "execute_result"
    }
   ],
   "source": [
    "N = n_obs\n",
    "T_n = 4\n",
    "delta = 2 / N\n",
    "\n",
    "u_grid2 = np.linspace(-1, 1, N - 1)\n",
    "u_grid2"
   ]
  },
  {
   "cell_type": "code",
   "execution_count": 246,
   "id": "62289c32",
   "metadata": {
    "scrolled": true
   },
   "outputs": [
    {
     "name": "stdout",
     "output_type": "stream",
     "text": [
      "(5000,)\n"
     ]
    },
    {
     "data": {
      "text/plain": [
       "array([-1.        , -0.99984992, -0.99934362, ...,  0.99923298,  0.99987498,  1.        ])"
      ]
     },
     "execution_count": 246,
     "metadata": {},
     "output_type": "execute_result"
    }
   ],
   "source": [
    "np.random.seed(112)\n",
    "\n",
    "u_til2 = np.array([np.random.uniform(u_grid2[i - 1], u_grid2[i]) for i in range(1, len(u_grid2))])\n",
    "u_til2 = np.insert(u_til2, 0, -1)\n",
    "u_til2 = np.append(u_til2, 1)\n",
    "\n",
    "print(u_til2.shape)\n",
    "u_til2"
   ]
  },
  {
   "cell_type": "code",
   "execution_count": 247,
   "id": "ff9cfddf",
   "metadata": {},
   "outputs": [
    {
     "name": "stdout",
     "output_type": "stream",
     "text": [
      "(5000,)\n"
     ]
    },
    {
     "data": {
      "text/plain": [
       "array([-4.        , -3.99939967, -3.99737446, ...,  3.99693194,  3.99949993,  4.        ])"
      ]
     },
     "execution_count": 247,
     "metadata": {},
     "output_type": "execute_result"
    }
   ],
   "source": [
    "u_arc = T_n * u_til2\n",
    "\n",
    "print(u_arc.shape)\n",
    "u_arc"
   ]
  },
  {
   "cell_type": "code",
   "execution_count": 248,
   "id": "9f2aa2ba",
   "metadata": {},
   "outputs": [],
   "source": [
    "def kernel(x):\n",
    "    if abs(x) <= 0.05:\n",
    "        return 1\n",
    "    elif 0.05 < abs(x) and abs(x) < 1:\n",
    "        return np.exp(-np.exp(-1 / (abs(x) - 0.05)) / (1 - abs(x)))\n",
    "    return 0\n",
    "\n",
    "\n",
    "def phi_estimation(\n",
    "    i: int, n_obs: int, dt: float, u_arc: np.ndarray, D_k: np.ndarray\n",
    "):\n",
    "    \n",
    "    return np.array([(1 / dt) * np.log((1 / n_obs) * np.sum(np.exp(1j * u * D_k[i]))) for u in u_arc])\n",
    "\n",
    "\n",
    "def density_estimation(\n",
    "    i: int, n_obs: int, dt: float, T_n: float, delta: float, lam_n: float, sig_n: float, mu_n: float,\n",
    "    u_arc: np.ndarray, x_s: float\n",
    "):\n",
    "    \n",
    "    phi_est = phi_estimation(i, n_obs, dt, u_arc, D_k)\n",
    "    \n",
    "    \n",
    "    \n",
    "    #phi_est = re_estimation(n_obs, i, dt, D_k, u_arc) + 1j * im_estimation(i, dt, D_k, u_arc)\n",
    "    \n",
    "    \n",
    "    kern = np.array([kernel(u / T_n) for u in u_arc])\n",
    "    # kern = 1\n",
    "    \n",
    "    return ((T_n * delta) / (2 * np.pi * lam_n)) * np.sum(\n",
    "        np.exp(-1j * u_arc * x_s) * (phi_est - 1j * mu_n * u_arc + (1 / 2) * sig_n**2 * u_arc**2 + lam_n) * kern\n",
    "    )"
   ]
  },
  {
   "cell_type": "code",
   "execution_count": 249,
   "id": "30209069",
   "metadata": {
    "scrolled": false
   },
   "outputs": [
    {
     "name": "stderr",
     "output_type": "stream",
     "text": [
      "100%|█████████████████████████████████████████| 100/100 [00:53<00:00,  1.85it/s]"
     ]
    },
    {
     "name": "stdout",
     "output_type": "stream",
     "text": [
      "(100,)\n"
     ]
    },
    {
     "name": "stderr",
     "output_type": "stream",
     "text": [
      "\n"
     ]
    },
    {
     "data": {
      "text/plain": [
       "array([-0.0017137 +0.00000923j, -0.00140362+0.00000865j, -0.00094677+0.00000809j, ..., -0.00240695-0.00000754j, -0.00223509-0.00000823j, -0.00187036-0.00000898j])"
      ]
     },
     "execution_count": 249,
     "metadata": {},
     "output_type": "execute_result"
    }
   ],
   "source": [
    "p_estimated = np.array([density_estimation(i, n_obs, dt, T_n, delta, lam_n, sig_n, mu_n, u_arc, x) for x in tqdm(x_s)])\n",
    "\n",
    "print(p_estimated.shape)\n",
    "p_estimated"
   ]
  },
  {
   "cell_type": "code",
   "execution_count": 250,
   "id": "9194a4f1",
   "metadata": {},
   "outputs": [],
   "source": [
    "p_real = (1 / np.sqrt(2 * np.pi)) * np.exp(-x_s**2 / 2)"
   ]
  },
  {
   "cell_type": "code",
   "execution_count": 251,
   "id": "81c13b41",
   "metadata": {},
   "outputs": [
    {
     "data": {
      "text/plain": [
       "(0.00041837563592940594+7.046380685131915e-09j)"
      ]
     },
     "execution_count": 251,
     "metadata": {},
     "output_type": "execute_result"
    }
   ],
   "source": [
    "MSE = (1 / m) * np.sum((p_estimated - p_real)**2)\n",
    "MSE"
   ]
  },
  {
   "cell_type": "code",
   "execution_count": 252,
   "id": "d81b9c2c",
   "metadata": {
    "scrolled": false
   },
   "outputs": [
    {
     "name": "stderr",
     "output_type": "stream",
     "text": [
      "/opt/anaconda3/lib/python3.9/site-packages/matplotlib/cbook/__init__.py:1298: ComplexWarning: Casting complex values to real discards the imaginary part\n",
      "  return np.asarray(x, float)\n"
     ]
    },
    {
     "data": {
      "image/png": "[encoded data removed]",
      "text/plain": [
       "<Figure size 640x480 with 1 Axes>"
      ]
     },
     "metadata": {},
     "output_type": "display_data"
    }
   ],
   "source": [
    "sns.set(style=\"whitegrid\")\n",
    "\n",
    "sns.lineplot(x=x_s, y=p_estimated, color='blue')\n",
    "sns.lineplot(x=x_s, y=p_real, color='red')\n",
    "\n",
    "plt.show()"
   ]
  },
  {
   "cell_type": "code",
   "execution_count": null,
   "id": "edf34e33",
   "metadata": {},
   "outputs": [],
   "source": []
  },
  {
   "cell_type": "code",
   "execution_count": null,
   "id": "99054079",
   "metadata": {},
   "outputs": [],
   "source": []
  },
  {
   "cell_type": "code",
   "execution_count": 208,
   "id": "4b386288",
   "metadata": {},
   "outputs": [
    {
     "name": "stdout",
     "output_type": "stream",
     "text": [
      "Result: 1.0\n",
      "Estimated error: 1.820990033533866e-12\n"
     ]
    }
   ],
   "source": [
    "from scipy.integrate import quad\n",
    "\n",
    "# Define the function to be integrated\n",
    "def f(x):\n",
    "    return 1 / np.sqrt(2 * np.pi) * np.exp(-x**2 / 2)\n",
    "\n",
    "# Compute the definite integral of f from 0 to 1\n",
    "result, error = quad(f, -1000, 1000)\n",
    "print(\"Result:\", result)\n",
    "print(\"Estimated error:\", error)"
   ]
  },
  {
   "cell_type": "code",
   "execution_count": null,
   "id": "675fd026",
   "metadata": {},
   "outputs": [],
   "source": []
  },
  {
   "cell_type": "code",
   "execution_count": null,
   "id": "22fb2629",
   "metadata": {},
   "outputs": [],
   "source": []
  }
 ],
 "metadata": {
  "kernelspec": {
   "display_name": "Python 3 (ipykernel)",
   "language": "python",
   "name": "python3"
  },
  "language_info": {
   "codemirror_mode": {
    "name": "ipython",
    "version": 3
   },
   "file_extension": ".py",
   "mimetype": "text/x-python",
   "name": "python",
   "nbconvert_exporter": "python",
   "pygments_lexer": "ipython3",
   "version": "3.9.13"
  }
 },
 "nbformat": 4,
 "nbformat_minor": 5
}
