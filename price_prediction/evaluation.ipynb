{
 "cells": [
  {
   "cell_type": "code",
   "execution_count": null,
   "id": "18959bf9",
   "metadata": {
    "scrolled": false
   },
   "outputs": [],
   "source": [
    "import matplotlib.pyplot as plt\n",
    "import numpy as np\n",
    "import pandas as pd\n",
    "import seaborn as sns\n",
    "import time\n",
    "import torch\n",
    "import torch.nn as nn\n",
    "import torch.optim as optim\n",
    "\n",
    "from IPython.display import clear_output\n",
    "from sklearn.preprocessing import MinMaxScaler\n",
    "from sktime.forecasting.model_selection import temporal_train_test_split\n",
    "from sktime.utils.plotting import plot_series\n",
    "from torch.utils.data import DataLoader, TensorDataset\n",
    "from tqdm import tqdm\n",
    "\n",
    "np.set_printoptions(precision=4, linewidth=80, threshold=10)\n",
    "sns.set_style('whitegrid')\n",
    "torch.set_printoptions(precision=4, linewidth=80, threshold=10)\n",
    "\n",
    "device = \"mps\" if torch.backends.mps.is_available else \"cpu\"\n",
    "print(f\"Current device is {device}\")"
   ]
  },
  {
   "cell_type": "markdown",
   "id": "f5d32b79",
   "metadata": {},
   "source": [
    "## 1."
   ]
  },
  {
   "cell_type": "code",
   "execution_count": null,
   "id": "549c2e49",
   "metadata": {
    "scrolled": true
   },
   "outputs": [],
   "source": [
    "data = pd.read_excel('./Data/data.xlsx')\n",
    "data.index = data.Date\n",
    "data.drop(columns=['Date'], inplace=True)"
   ]
  },
  {
   "cell_type": "code",
   "execution_count": null,
   "id": "dc9dc074",
   "metadata": {},
   "outputs": [],
   "source": [
    "# Загрузим гиперпараметры\n",
    "%store -r h\n",
    "%store -r sigma\n",
    "%store -r delta\n",
    "%store -r n\n",
    "\n",
    "clear_output()"
   ]
  },
  {
   "cell_type": "code",
   "execution_count": null,
   "id": "0e2c5bed",
   "metadata": {},
   "outputs": [],
   "source": [
    "X_scaler = MinMaxScaler()\n",
    "y_scaler = MinMaxScaler()\n",
    "\n",
    "y_train, y_test, X_train, X_test = temporal_train_test_split(\n",
    "    data['target'], data.iloc[:, :-1], test_size=50\n",
    ")\n",
    "\n",
    "X_train, Z_train = X_train.iloc[:, :-1], X_train.values[:, -1].reshape(-1, 1)\n",
    "# X_train_scaled = X_scaler.fit_transform(X_train)\n",
    "X_train_scaled = X_train.values\n",
    "\n",
    "X_test, Z_test = X_test.iloc[:, :-1], X_test.values[:, -1].reshape(-1, 1)\n",
    "# X_test_scaled = X_scaler.transform(X_test)\n",
    "X_test_scaled = X_test.values\n",
    "\n",
    "y_train_scaled = y_train.values.reshape(-1, 1)\n",
    "y_test_scaled = y_test.values.reshape(-1, 1)\n",
    "\n",
    "# y_train_scaled = y_scaler.fit_transform(y_train.reshape(-1, 1))\n",
    "# y_test_scaled = y_scaler.transform(y_test.reshape(-1, 1))"
   ]
  },
  {
   "cell_type": "code",
   "execution_count": null,
   "id": "98488bef",
   "metadata": {
    "scrolled": true
   },
   "outputs": [],
   "source": [
    "X_train_tensor = torch.tensor(X_train_scaled.reshape((-1, h, 1)).astype('float32'))\n",
    "y_train_tensor = torch.tensor(y_train_scaled.astype('float32'))\n",
    "Z_train_tensor = torch.tensor(Z_train.astype('float32'))\n",
    "\n",
    "X_test_tensor = torch.tensor(X_test_scaled.reshape((-1, h, 1)).astype('float32'))\n",
    "y_test_tensor = torch.tensor(y_test_scaled.astype('float32'))\n",
    "Z_test_tensor = torch.tensor(Z_test.astype('float32'))\n",
    "\n",
    "X_train_tensor.shape, X_test_tensor.shape, y_train_tensor.shape, y_test_tensor.shape, Z_train_tensor.shape, Z_test_tensor.shape"
   ]
  },
  {
   "cell_type": "code",
   "execution_count": null,
   "id": "75067efb",
   "metadata": {},
   "outputs": [],
   "source": [
    "train_dataset = TensorDataset(X_train_tensor, y_train_tensor, Z_train_tensor)\n",
    "test_dataset = TensorDataset(X_test_tensor, y_test_tensor, Z_test_tensor)"
   ]
  },
  {
   "cell_type": "code",
   "execution_count": null,
   "id": "fc3d598a",
   "metadata": {},
   "outputs": [],
   "source": [
    "%store -r batch_size\n",
    "\n",
    "# batch_size = 128\n",
    "\n",
    "train_loader = DataLoader(train_dataset, batch_size=batch_size, shuffle=False)\n",
    "test_loader = DataLoader(test_dataset, batch_size=batch_size, shuffle=False)"
   ]
  },
  {
   "cell_type": "code",
   "execution_count": null,
   "id": "c9efbbcd",
   "metadata": {},
   "outputs": [],
   "source": [
    "for _, batch in enumerate(train_loader):\n",
    "    x_batch, y_batch, z_batch = batch[0].to(device), batch[1].to(device), batch[2].to(device)\n",
    "    print(x_batch.shape, y_batch.shape, z_batch.shape)\n",
    "    break"
   ]
  },
  {
   "cell_type": "code",
   "execution_count": null,
   "id": "1e6c12ef",
   "metadata": {
    "scrolled": true
   },
   "outputs": [],
   "source": [
    "class LSTM(nn.Module):\n",
    "    def __init__(self, input_size, hidden_size, num_stacked_layers):\n",
    "        super().__init__()\n",
    "        self.hidden_size = hidden_size\n",
    "        self.num_stacked_layers = num_stacked_layers\n",
    "\n",
    "        self.lstm = nn.LSTM(input_size, hidden_size, num_stacked_layers, batch_first=True)\n",
    "        \n",
    "        self.fc = nn.Linear(hidden_size, 1)\n",
    "\n",
    "    def forward(self, x):\n",
    "        batch_size = x.size(0)\n",
    "        h0 = torch.zeros(self.num_stacked_layers, batch_size, self.hidden_size).to(device)\n",
    "        c0 = torch.zeros(self.num_stacked_layers, batch_size, self.hidden_size).to(device)\n",
    "        \n",
    "        out, _ = self.lstm(x, (h0, c0))\n",
    "        out = self.fc(out[:, -1, :])\n",
    "        return out\n",
    "\n",
    "model = LSTM(1, 4, 1)\n",
    "model.to(device)\n",
    "model"
   ]
  },
  {
   "cell_type": "code",
   "execution_count": null,
   "id": "2adf2734",
   "metadata": {},
   "outputs": [],
   "source": [
    "# class LSTM(nn.Module):\n",
    "#     def __init__(self, input_size, hidden_size, num_stacked_layers):\n",
    "#         super().__init__()\n",
    "#         self.hidden_size = hidden_size\n",
    "#         self.num_stacked_layers = num_stacked_layers\n",
    "# \n",
    "#         # Первый LSTM слой\n",
    "#         self.lstm1 = nn.LSTM(input_size, hidden_size, num_stacked_layers, batch_first=True)\n",
    "# \n",
    "#         # Второй LSTM слой\n",
    "#         self.lstm2 = nn.LSTM(hidden_size, hidden_size, num_stacked_layers, batch_first=True)\n",
    "# \n",
    "#         # Полносвязанный слой для выхода\n",
    "#         self.fc = nn.Linear(hidden_size, 1)\n",
    "# \n",
    "#     def forward(self, x):\n",
    "#         batch_size = x.size(0)\n",
    "#         h0 = torch.zeros(self.num_stacked_layers, batch_size, self.hidden_size).to(x.device)\n",
    "#         c0 = torch.zeros(self.num_stacked_layers, batch_size, self.hidden_size).to(x.device)\n",
    "# \n",
    "#         # Проход через первый LSTM слой\n",
    "#         out, _ = self.lstm1(x, (h0, c0))\n",
    "# \n",
    "#         # Проход через второй LSTM слой\n",
    "#         out, _ = self.lstm2(out, (h0, c0))\n",
    "# \n",
    "#         # Проход через полносвязанный слой\n",
    "#         out = self.fc(out[:, -1, :])\n",
    "# \n",
    "#         return out\n",
    "# \n",
    "# model = LSTM(1, 4, 1)\n",
    "# model.to(device)\n",
    "# model"
   ]
  },
  {
   "cell_type": "code",
   "execution_count": null,
   "id": "ed74a374",
   "metadata": {},
   "outputs": [],
   "source": [
    "def CustomMSE(f_curr, f_prev, y_curr, Z_curr, sigma):\n",
    "    predictions = (f_curr - f_prev) * np.sqrt(delta) + sigma * Z_curr\n",
    "    mse = torch.mean((y_curr - predictions)**2)\n",
    "    return mse"
   ]
  },
  {
   "cell_type": "code",
   "execution_count": null,
   "id": "c746b624",
   "metadata": {},
   "outputs": [],
   "source": [
    "def CustomMAE(f_curr, f_prev, y_curr, Z_curr, sigma):\n",
    "    predictions = (f_curr - f_prev) * np.sqrt(delta) + sigma * Z_curr\n",
    "    mse = torch.mean(torch.abs(y_curr - predictions))\n",
    "    return mse"
   ]
  },
  {
   "cell_type": "code",
   "execution_count": null,
   "id": "12dc7b0b",
   "metadata": {
    "scrolled": false
   },
   "outputs": [],
   "source": [
    "learning_rate = 0.001\n",
    "num_epochs = 10\n",
    "optimizer = torch.optim.Adam(model.parameters(), lr=learning_rate)\n",
    "\n",
    "train_loss_history, test_loss_history = [], []\n",
    "best_test_loss = float('inf')\n",
    "best_epoch = 0\n",
    "\n",
    "for epoch in tqdm(range(1, num_epochs + 1)):\n",
    "    clear_output(wait=True)\n",
    "    torch.manual_seed(66)\n",
    "    \n",
    "    model.train()\n",
    "    curr_train_loss = 0\n",
    "    for batch_index, batch in enumerate(train_loader):\n",
    "        x_batch, y_batch, z_batch = batch[0].to(device), batch[1].to(device), batch[2].to(device)\n",
    "        \n",
    "        f_all = model(x_batch)\n",
    "        f_curr, f_prev = f_all[1:], f_all[:-1]\n",
    "        \n",
    "        loss = CustomMSE(f_curr, f_prev, y_batch[1:], z_batch[1:], sigma)\n",
    "        # loss = CustomMAE(f_curr, f_prev, y_batch[1:], z_batch[1:], sigma)\n",
    "        curr_train_loss += loss.item()\n",
    "        \n",
    "        optimizer.zero_grad()\n",
    "        loss.backward()\n",
    "        optimizer.step()\n",
    "        \n",
    "    \n",
    "    train_loss_history.append(curr_train_loss)\n",
    "        \n",
    "    model.eval()\n",
    "    curr_test_loss = 0\n",
    "    for batch_index, batch in enumerate(test_loader):\n",
    "        x_batch, y_batch, z_batch = batch[0].to(device), batch[1].to(device), batch[2].to(device)\n",
    "        \n",
    "        with torch.no_grad():\n",
    "            f_all = model(x_batch)\n",
    "            f_curr, f_prev = f_all[1:], f_all[:-1]\n",
    "            loss = CustomMSE(f_curr, f_prev, y_batch[1:], z_batch[1:], sigma)\n",
    "            # loss = CustomMAE(f_curr, f_prev, y_batch[1:], z_batch[1:], sigma)\n",
    "            curr_test_loss += loss.item()\n",
    "    \n",
    "    # # Здесь сохраним лучшую модель\n",
    "    # if curr_test_loss < best_test_loss:\n",
    "    #     best_test_loss = curr_test_loss\n",
    "    #     model_filename = f'best_model_{sigma}.pth'\n",
    "    #     torch.save(model, model_filename)\n",
    "    #     best_epoch = epoch\n",
    "        \n",
    "            \n",
    "    test_loss_history.append(curr_test_loss)\n",
    "    \n",
    "    print(\"Current status:\")\n",
    "    print(f\"Curren h: {h}\")\n",
    "    print(f\"Curren sigma: {sigma}\")\n",
    "    print(f\"Curren batch_size: {batch_size}\")\n",
    "    \n",
    "    print(f\"Лучшая эпоха: {best_epoch}\")\n",
    "    # Выведем графики\n",
    "    fig, axes = plt.subplots(nrows=2, ncols=2, figsize=(24, 10))\n",
    "    axes = axes.flatten()\n",
    "    \n",
    "    fig.suptitle(f\"Results with sigma = {sigma}\")\n",
    "\n",
    "    sns.lineplot(x=range(1, epoch + 1), y=train_loss_history, label='train', color='blue', ax=axes[0])\n",
    "    axes[0].set_xlabel('epoch')\n",
    "    axes[0].set_ylabel('loss')\n",
    "    \n",
    "    sns.lineplot(x=range(1, epoch + 1), y=test_loss_history, label='test', color='orange', ax=axes[1])\n",
    "    axes[1].set_xlabel('epoch')\n",
    "    axes[1].set_ylabel('loss')\n",
    "    \n",
    "    \n",
    "    with torch.no_grad():\n",
    "        f_all = model(X_train_tensor.to(device)).to('cpu').numpy()\n",
    "        f_curr, f_prev = f_all[1:], f_all[:-1]\n",
    "     \n",
    "    y_pred_scaled = (f_curr - f_prev) * np.sqrt(delta) + sigma * Z_train[1:]\n",
    "     \n",
    "    # y_pred_train = y_scaler.inverse_transform(y_pred_scaled)\n",
    "    y_pred_train = y_pred_scaled\n",
    "    \n",
    "    sns.lineplot(x=range(1, y_train.values[1:].shape[0] + 1), y=y_train.values[1:], label=\"real train\", ax=axes[2])\n",
    "    sns.lineplot(x=range(1, y_pred_train.flatten().shape[0] + 1), y=y_pred_train.flatten(), label=\"predicted train\", ax=axes[2])\n",
    "    \n",
    "    with torch.no_grad():\n",
    "        f_all = model(X_test_tensor.to(device)).to('cpu').numpy()\n",
    "        f_curr, f_prev = f_all[1:], f_all[:-1]\n",
    "     \n",
    "    y_pred_scaled = (f_curr - f_prev) * np.sqrt(delta) + sigma * Z_test[1:]\n",
    "     \n",
    "    # y_pred_test = y_scaler.inverse_transform(y_pred_scaled)\n",
    "    y_pred_test = y_pred_scaled\n",
    "        \n",
    "    plot_series(\n",
    "        y_test[1:], pd.Series(y_pred_test.flatten(), index=y_test[1:].index),\n",
    "        labels=['test', 'pred'],\n",
    "        ax=axes[3]\n",
    "    )\n",
    "    \n",
    "    axes[3].set_xticks(range(1, len(y_test[1:].index) + 1, 10))\n",
    "    axes[3].set_xticklabels(y_test[1::10].index.date, rotation=10)\n",
    "    \n",
    "    \n",
    "    plt.legend()\n",
    "    plt.show()"
   ]
  },
  {
   "cell_type": "code",
   "execution_count": null,
   "id": "c34c4c23",
   "metadata": {},
   "outputs": [],
   "source": [
    "# clear_output()\n",
    "# \n",
    "# with torch.no_grad():\n",
    "#     f_all = model(X_train_tensor.to(device)).to('cpu').numpy()\n",
    "#     f_curr, f_prev = f_all[1:], f_all[:-1]\n",
    "#     \n",
    "#     y_pred_scaled = (f_curr - f_prev) * np.sqrt(delta) + sigma * Z_train[1:]\n",
    "#     \n",
    "# # y_pred_train = y_scaler.inverse_transform(y_pred_scaled)\n",
    "# y_pred_train = y_pred_scaled\n",
    "# \n",
    "# plt.figure(figsize=(15, 7))\n",
    "# plt.plot(y_train.values[1:], label=\"real train\")\n",
    "# plt.plot(y_pred_train, label=\"predicted train\")\n",
    "# plt.ylabel(\"Delta\")\n",
    "# plt.legend()\n",
    "# plt.show()"
   ]
  },
  {
   "cell_type": "code",
   "execution_count": null,
   "id": "dde52a38",
   "metadata": {
    "scrolled": false
   },
   "outputs": [],
   "source": [
    "# with torch.no_grad():\n",
    "#     f_all = model(X_test_tensor.to(device)).to('cpu').numpy()\n",
    "#     f_curr, f_prev = f_all[1:], f_all[:-1]\n",
    "#     \n",
    "#     y_pred_scaled = (f_curr - f_prev) * np.sqrt(delta) + sigma * Z_test[1:]\n",
    "#     \n",
    "# # y_pred_test = y_scaler.inverse_transform(y_pred_scaled)\n",
    "# y_pred_test = y_pred_scaled\n",
    "# \n",
    "# plt.figure(figsize=(15, 7))\n",
    "# plt.plot(y_test.values[1:], label=\"real train\")\n",
    "# plt.plot(y_pred_test, label=\"predicted train\")\n",
    "# plt.ylabel(\"Delta\")\n",
    "# plt.savefig(f\"\")\n",
    "# plt.legend()\n",
    "# plt.show()"
   ]
  },
  {
   "cell_type": "code",
   "execution_count": null,
   "id": "622cdff0",
   "metadata": {},
   "outputs": [],
   "source": [
    "# time.sleep(3)\n",
    "clear_output()\n",
    "\n",
    "with torch.no_grad():\n",
    "    f_all = model(X_test_tensor.to(device)).to('cpu').numpy()\n",
    "    f_curr, f_prev = f_all[1:], f_all[:-1]\n",
    "    \n",
    "    y_pred_scaled = (f_curr - f_prev) * np.sqrt(delta) + sigma * Z_test[1:]\n",
    "    \n",
    "# y_pred_test = y_scaler.inverse_transform(y_pred_scaled)\n",
    "y_pred_test = y_pred_scaled\n",
    "plot_series(\n",
    "    y_test[1:], pd.Series(y_pred_test.flatten(), index=y_test[1:].index),\n",
    "    labels=['test', 'pred']\n",
    ")\n",
    "\n",
    "plt.xlabel(\"Date\")\n",
    "plt.xticks(rotation=10)\n",
    "plt.title(f\"Predictions on the test sample with sigma = {sigma}\")\n",
    "plt.ylim(-0.15, 0.15)\n",
    "plt.savefig(f\"./Images/test_pred_sigma:{sigma}.png\")\n",
    "plt.show()\n",
    "time.sleep(3)"
   ]
  },
  {
   "cell_type": "code",
   "execution_count": null,
   "id": "05c3a253",
   "metadata": {},
   "outputs": [],
   "source": []
  },
  {
   "cell_type": "markdown",
   "id": "38f92d1d",
   "metadata": {},
   "source": [
    "### Лучшая модель"
   ]
  },
  {
   "cell_type": "code",
   "execution_count": null,
   "id": "97d98ba0",
   "metadata": {},
   "outputs": [],
   "source": [
    "# best_model = torch.load(\"best_noisy.pth\", map_location=torch.device('mps'))"
   ]
  },
  {
   "cell_type": "code",
   "execution_count": null,
   "id": "1a3956a4",
   "metadata": {
    "scrolled": false
   },
   "outputs": [],
   "source": [
    "# with torch.no_grad():\n",
    "#     f_all = best_model(X_train_tensor.to(device)).to('cpu').numpy()\n",
    "#     f_curr, f_prev = f_all[1:], f_all[:-1]\n",
    "#     \n",
    "#     y_pred_scaled = (f_curr - f_prev) * np.sqrt(delta) + sigma * Z_train[1:]\n",
    "#     \n",
    "# # y_pred_train = y_scaler.inverse_transform(y_pred_scaled)\n",
    "# y_pred_train = y_pred_scaled\n",
    "# \n",
    "# plt.figure(figsize=(15, 7))\n",
    "# plt.plot(y_train.values[1:], label=\"real train\")\n",
    "# plt.plot(y_pred_train, label=\"predicted train\")\n",
    "# plt.ylabel(\"Delta\")\n",
    "# plt.legend()\n",
    "# plt.show()"
   ]
  },
  {
   "cell_type": "code",
   "execution_count": null,
   "id": "ab327014",
   "metadata": {
    "scrolled": false
   },
   "outputs": [],
   "source": [
    "# with torch.no_grad():\n",
    "#     f_all = best_model(X_test_tensor.to(device)).to('cpu').numpy()\n",
    "#     f_curr, f_prev = f_all[1:], f_all[:-1]\n",
    "#     \n",
    "#     y_pred_scaled = (f_curr - f_prev) * np.sqrt(delta) + sigma * Z_test[1:]\n",
    "#     \n",
    "# # y_pred_test = y_scaler.inverse_transform(y_pred_scaled)\n",
    "# y_pred_test = y_pred_scaled\n",
    "# \n",
    "# # plt.figure(figsize=(15, 7))\n",
    "# # plt.plot(y_test.values[1:], label=\"real train\")\n",
    "# # plt.plot(y_pred_test, label=\"predicted train\")\n",
    "# # plt.ylabel(\"Delta\")\n",
    "# # plt.legend()\n",
    "# # plt.show()"
   ]
  },
  {
   "cell_type": "code",
   "execution_count": null,
   "id": "6cc9d8a2",
   "metadata": {},
   "outputs": [],
   "source": [
    "# plot_series(\n",
    "#     y_test[1:], pd.Series(y_pred_test.flatten(), index=y_test[1:].index),\n",
    "#     labels=['test', 'pred']\n",
    "# )\n",
    "# \n",
    "# plt.xticks(rotation=10)\n",
    "# plt.show()"
   ]
  }
 ],
 "metadata": {
  "kernelspec": {
   "display_name": "Python 3 (ipykernel)",
   "language": "python",
   "name": "python3"
  },
  "language_info": {
   "codemirror_mode": {
    "name": "ipython",
    "version": 3
   },
   "file_extension": ".py",
   "mimetype": "text/x-python",
   "name": "python",
   "nbconvert_exporter": "python",
   "pygments_lexer": "ipython3",
   "version": "3.9.13"
  }
 },
 "nbformat": 4,
 "nbformat_minor": 5
}
