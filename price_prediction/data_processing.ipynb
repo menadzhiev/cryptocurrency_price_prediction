{
 "cells": [
  {
   "cell_type": "code",
   "execution_count": null,
   "id": "0e954e57",
   "metadata": {},
   "outputs": [],
   "source": [
    "import matplotlib.pyplot as plt\n",
    "import numpy as np\n",
    "import pandas as pd\n",
    "import seaborn as sns\n",
    "import torch\n",
    "\n",
    "from pytrends.request import TrendReq\n",
    "\n",
    "pd.set_option('display.max_rows', 6)"
   ]
  },
  {
   "cell_type": "markdown",
   "id": "1f68f247",
   "metadata": {},
   "source": [
    "## Идеи:\n",
    "\n",
    "* Взять отношение Media attention index по дням и оценивать функцию от него"
   ]
  },
  {
   "cell_type": "markdown",
   "id": "94178df5",
   "metadata": {},
   "source": [
    "## Цены биткоина"
   ]
  },
  {
   "cell_type": "code",
   "execution_count": null,
   "id": "9671b61c",
   "metadata": {
    "scrolled": true
   },
   "outputs": [],
   "source": [
    "btc_price_raw = pd.read_csv('/Users/mmenadzhiev/Desktop/Studying/Project/Estimation of the price/Data/BTC-USD.csv')\n",
    "btc_price_raw.index = pd.to_datetime(btc_price_raw.Date, dayfirst=True)\n",
    "btc_price_raw.drop(columns=['Date'], inplace=True)"
   ]
  },
  {
   "cell_type": "code",
   "execution_count": null,
   "id": "833d4047",
   "metadata": {
    "scrolled": false
   },
   "outputs": [],
   "source": [
    "# plt.figure(figsize=(23, 9))\n",
    "# btc_price_raw.Close.plot()\n",
    "# plt.xticks(rotation=20)\n",
    "# plt.show()"
   ]
  },
  {
   "cell_type": "markdown",
   "id": "3d893a4d",
   "metadata": {},
   "source": [
    "## Цена зависимой переменной"
   ]
  },
  {
   "cell_type": "code",
   "execution_count": null,
   "id": "bc0d4992",
   "metadata": {},
   "outputs": [],
   "source": [
    "eth_price_raw = pd.read_csv('/Users/mmenadzhiev/Desktop/Studying/Project/Estimation of the price/Data/ETH-USD.csv')\n",
    "eth_price_raw.index = pd.to_datetime(eth_price_raw.Date, dayfirst=True)\n",
    "eth_price_raw.drop(columns=['Date'], inplace=True)"
   ]
  },
  {
   "cell_type": "markdown",
   "id": "b45989b7",
   "metadata": {},
   "source": [
    "## Формирование общей таблицы"
   ]
  },
  {
   "cell_type": "code",
   "execution_count": null,
   "id": "eebc4389",
   "metadata": {},
   "outputs": [],
   "source": [
    "btc_cond = btc_price_raw.index > '2018-01-01'\n",
    "btc = pd.DataFrame(btc_price_raw[btc_cond].Close)\n",
    "btc.columns = ['btc']"
   ]
  },
  {
   "cell_type": "code",
   "execution_count": null,
   "id": "6a98ddb2",
   "metadata": {},
   "outputs": [],
   "source": [
    "eth = pd.DataFrame(eth_price_raw.Close)\n",
    "eth.columns = ['eth']"
   ]
  },
  {
   "cell_type": "code",
   "execution_count": null,
   "id": "77d60b3a",
   "metadata": {},
   "outputs": [],
   "source": [
    "btc_eth_df = pd.concat([btc, eth], join='inner', axis=1)\n",
    "btc_eth_df.to_excel('btc_eth_df.xlsx')\n",
    "btc_eth_df"
   ]
  },
  {
   "cell_type": "code",
   "execution_count": null,
   "id": "599bb000",
   "metadata": {},
   "outputs": [],
   "source": [
    "n = btc_eth_df.index.shape[0]\n",
    "%store n\n",
    "\n",
    "# Загрузим гиперпараметры\n",
    "%store -r h"
   ]
  },
  {
   "cell_type": "code",
   "execution_count": null,
   "id": "1dfacb90",
   "metadata": {},
   "outputs": [],
   "source": [
    "log_btc_eth_df = pd.DataFrame(index=btc_eth_df.index)\n",
    "\n",
    "log_btc_eth_df['log_btc']  = np.log(btc_eth_df.btc.values)\n",
    "log_btc_eth_df['log_eth']  = np.log(btc_eth_df.eth.values)\n",
    "\n",
    "log_btc_eth_df"
   ]
  },
  {
   "cell_type": "code",
   "execution_count": null,
   "id": "a01d461c",
   "metadata": {},
   "outputs": [],
   "source": [
    "eth = torch.tensor(btc_eth_df.eth.values)\n",
    "btc = torch.tensor(btc_eth_df.btc.values)\n",
    "\n",
    "log_eth = torch.tensor(log_btc_eth_df.log_eth.values)\n",
    "log_btc = torch.tensor(log_btc_eth_df.log_btc.values)"
   ]
  },
  {
   "cell_type": "code",
   "execution_count": null,
   "id": "dcfb9f03",
   "metadata": {
    "scrolled": true
   },
   "outputs": [],
   "source": [
    "btc"
   ]
  },
  {
   "cell_type": "code",
   "execution_count": null,
   "id": "310c1535",
   "metadata": {},
   "outputs": [],
   "source": []
  },
  {
   "cell_type": "code",
   "execution_count": null,
   "id": "7ba5f9b7",
   "metadata": {},
   "outputs": [],
   "source": [
    "# Сформируем матрицу X\n",
    "X = torch.empty(n - h + 1, h)\n",
    "for i in range(n - h + 1):\n",
    "    X[i] = log_btc[i:h + i]\n",
    "\n",
    "X = pd.DataFrame(X)\n",
    "X.index = log_btc_eth_df.index[h - 1:]\n",
    "\n",
    "columns = []\n",
    "for i in range(h, 0, -1):\n",
    "    columns.append(f'M_t - {i}')\n",
    "    \n",
    "X.columns = columns\n",
    "\n",
    "X_index = X.index\n",
    "X = X.iloc[:-1, :]\n",
    "X.index = X_index[1:]"
   ]
  },
  {
   "cell_type": "code",
   "execution_count": null,
   "id": "45553163",
   "metadata": {},
   "outputs": [],
   "source": [
    "log_eth_delta = pd.DataFrame(log_btc_eth_df.log_eth[h - 1:] - log_btc_eth_df.log_eth[h - 1:].shift(1)).iloc[1:, :]\n",
    "log_eth_delta.columns = ['log_eth_delta']\n",
    "\n",
    "target = log_eth_delta / np.sqrt(delta)\n",
    "target.columns = ['target']"
   ]
  },
  {
   "cell_type": "code",
   "execution_count": null,
   "id": "8ef97945",
   "metadata": {},
   "outputs": [],
   "source": [
    "# z: Z_k ~ N(0, 1)\n",
    "torch.manual_seed(222)\n",
    "Z = torch.distributions.normal.Normal(loc=0, scale=1).sample(sample_shape=torch.Size([n, 1]))\n",
    "Z_curr = pd.DataFrame(index=X.index, data=Z[h:], columns=['Z_t'])\n",
    "\n",
    "\n",
    "# print(Z.shape)\n",
    "# Z"
   ]
  },
  {
   "cell_type": "code",
   "execution_count": null,
   "id": "a7ba7d9d",
   "metadata": {},
   "outputs": [],
   "source": [
    "# const = pd.DataFrame(np.ones_like(target), index=target.index, columns=['const'])"
   ]
  },
  {
   "cell_type": "code",
   "execution_count": null,
   "id": "8c40ec61",
   "metadata": {},
   "outputs": [],
   "source": [
    "data = pd.concat([X, Z_curr, target], axis=1)\n",
    "data.to_excel('./Data/data.xlsx')\n",
    "data"
   ]
  },
  {
   "cell_type": "code",
   "execution_count": null,
   "id": "d0ac9541",
   "metadata": {},
   "outputs": [],
   "source": []
  }
 ],
 "metadata": {
  "kernelspec": {
   "display_name": "Python 3 (ipykernel)",
   "language": "python",
   "name": "python3"
  },
  "language_info": {
   "codemirror_mode": {
    "name": "ipython",
    "version": 3
   },
   "file_extension": ".py",
   "mimetype": "text/x-python",
   "name": "python",
   "nbconvert_exporter": "python",
   "pygments_lexer": "ipython3",
   "version": "3.9.13"
  }
 },
 "nbformat": 4,
 "nbformat_minor": 5
}
