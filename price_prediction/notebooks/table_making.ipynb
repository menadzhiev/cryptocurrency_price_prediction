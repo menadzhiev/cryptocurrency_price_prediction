{
 "cells": [
  {
   "cell_type": "code",
   "execution_count": 1,
   "id": "e72d2201",
   "metadata": {},
   "outputs": [],
   "source": [
    "import numpy as np\n",
    "import pandas as pd"
   ]
  },
  {
   "cell_type": "code",
   "execution_count": 2,
   "id": "2a277262",
   "metadata": {},
   "outputs": [],
   "source": [
    "btc_price_raw = pd.read_csv('/Users/mmenadzhiev/Desktop/Studying/Project/Estimation of the price/Data/BTC-USD.csv')\n",
    "btc_price_raw.index = pd.to_datetime(btc_price_raw.Date, format='%Y-%m-%d')\n",
    "btc_price_raw.drop(columns=['Date'], inplace=True)"
   ]
  },
  {
   "cell_type": "code",
   "execution_count": 3,
   "id": "d10eca2a",
   "metadata": {},
   "outputs": [],
   "source": [
    "eth_price_raw = pd.read_csv('/Users/mmenadzhiev/Desktop/Studying/Project/Estimation of the price/Data/ETH-USD.csv')\n",
    "eth_price_raw.index = pd.to_datetime(eth_price_raw.Date, format='%Y-%m-%d')\n",
    "eth_price_raw.drop(columns=['Date'], inplace=True)"
   ]
  },
  {
   "cell_type": "code",
   "execution_count": 4,
   "id": "1f14aa1c",
   "metadata": {},
   "outputs": [],
   "source": [
    "btc_cond = btc_price_raw.index > '2018-01-01'\n",
    "btc = pd.DataFrame(btc_price_raw[btc_cond].Close)\n",
    "btc.columns = ['btc']\n",
    "\n",
    "eth = pd.DataFrame(eth_price_raw.Close)\n",
    "eth.columns = ['eth']\n",
    "\n",
    "btc_eth_df = pd.concat([btc, eth], join='inner', axis=1)"
   ]
  },
  {
   "cell_type": "code",
   "execution_count": 5,
   "id": "c9664274",
   "metadata": {},
   "outputs": [],
   "source": [
    "log_btc_eth_df = pd.DataFrame(index=btc_eth_df.index)\n",
    "\n",
    "log_btc_eth_df['log_btc']  = np.log(btc_eth_df.btc.values)\n",
    "log_btc_eth_df['log_eth']  = np.log(btc_eth_df.eth.values)\n",
    "\n",
    "log_btc_eth_df\n",
    "\n",
    "n = log_btc_eth_df.index.shape[0]"
   ]
  },
  {
   "cell_type": "code",
   "execution_count": 6,
   "id": "745c9dad",
   "metadata": {},
   "outputs": [
    {
     "name": "stdout",
     "output_type": "stream",
     "text": [
      "Stored 'n' (int)\n",
      "Stored 'btc_eth_df' (DataFrame)\n",
      "Stored 'log_btc_eth_df' (DataFrame)\n"
     ]
    }
   ],
   "source": [
    "%store n\n",
    "\n",
    "%store btc_eth_df\n",
    "%store log_btc_eth_df"
   ]
  }
 ],
 "metadata": {
  "kernelspec": {
   "display_name": "Python 3 (ipykernel)",
   "language": "python",
   "name": "python3"
  },
  "language_info": {
   "codemirror_mode": {
    "name": "ipython",
    "version": 3
   },
   "file_extension": ".py",
   "mimetype": "text/x-python",
   "name": "python",
   "nbconvert_exporter": "python",
   "pygments_lexer": "ipython3",
   "version": "3.9.13"
  }
 },
 "nbformat": 4,
 "nbformat_minor": 5
}
