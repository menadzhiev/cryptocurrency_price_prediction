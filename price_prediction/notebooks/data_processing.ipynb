{
 "cells": [
  {
   "cell_type": "code",
   "execution_count": null,
   "id": "0e954e57",
   "metadata": {},
   "outputs": [],
   "source": [
    "import matplotlib.pyplot as plt\n",
    "import numpy as np\n",
    "import pandas as pd\n",
    "import seaborn as sns\n",
    "import torch\n",
    "\n",
    "from pytrends.request import TrendReq"
   ]
  },
  {
   "cell_type": "markdown",
   "id": "1f68f247",
   "metadata": {},
   "source": [
    "## Идеи:\n",
    "\n",
    "* Взять отношение Media attention index по дням и оценивать функцию от него"
   ]
  },
  {
   "cell_type": "code",
   "execution_count": null,
   "id": "a01d461c",
   "metadata": {},
   "outputs": [],
   "source": [
    "eth = torch.tensor(btc_eth_df.eth.values)\n",
    "btc = torch.tensor(btc_eth_df.btc.values)\n",
    "\n",
    "log_eth = torch.tensor(log_btc_eth_df.log_eth.values)\n",
    "log_btc = torch.tensor(log_btc_eth_df.log_btc.values)"
   ]
  },
  {
   "cell_type": "code",
   "execution_count": null,
   "id": "7ba5f9b7",
   "metadata": {},
   "outputs": [],
   "source": [
    "# Сформируем матрицу X\n",
    "X = torch.empty(n - h + 1, h)\n",
    "for i in range(n - h + 1):\n",
    "    X[i] = log_btc[i:h + i]\n",
    "\n",
    "X = pd.DataFrame(X)\n",
    "X.index = log_btc_eth_df.index[h - 1:]\n",
    "\n",
    "columns = []\n",
    "for i in range(h, 0, -1):\n",
    "    columns.append(f'M_t_{i}')\n",
    "    \n",
    "X.columns = columns\n",
    "\n",
    "X_index = X.index\n",
    "X = X.iloc[:-1, :]\n",
    "X.index = X_index[1:]"
   ]
  },
  {
   "cell_type": "code",
   "execution_count": null,
   "id": "45553163",
   "metadata": {},
   "outputs": [],
   "source": [
    "log_eth_delta = pd.DataFrame(log_btc_eth_df.log_eth[h - 1:] - log_btc_eth_df.log_eth[h - 1:].shift(1)).iloc[1:, :]\n",
    "log_eth_delta.columns = ['log_eth_delta']\n",
    "\n",
    "target = log_eth_delta / np.sqrt(delta)\n",
    "target.columns = ['target']"
   ]
  },
  {
   "cell_type": "code",
   "execution_count": null,
   "id": "8ef97945",
   "metadata": {},
   "outputs": [],
   "source": [
    "# z: Z_k ~ N(0, 1)\n",
    "torch.manual_seed(222)\n",
    "Z = torch.distributions.normal.Normal(loc=0, scale=1).sample(sample_shape=torch.Size([n, 1]))\n",
    "Z_curr = pd.DataFrame(index=X.index, data=Z[h:], columns=['Z_t'])"
   ]
  },
  {
   "cell_type": "code",
   "execution_count": null,
   "id": "8c40ec61",
   "metadata": {},
   "outputs": [],
   "source": [
    "data = pd.concat([X, Z_curr, target], axis=1)\n",
    "data.to_excel('./Data/data.xlsx')\n",
    "data"
   ]
  }
 ],
 "metadata": {
  "kernelspec": {
   "display_name": "Python 3 (ipykernel)",
   "language": "python",
   "name": "python3"
  },
  "language_info": {
   "codemirror_mode": {
    "name": "ipython",
    "version": 3
   },
   "file_extension": ".py",
   "mimetype": "text/x-python",
   "name": "python",
   "nbconvert_exporter": "python",
   "pygments_lexer": "ipython3",
   "version": "3.9.13"
  }
 },
 "nbformat": 4,
 "nbformat_minor": 5
}
